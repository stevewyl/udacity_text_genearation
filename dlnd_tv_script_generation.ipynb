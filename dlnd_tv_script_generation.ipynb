{
 "cells": [
  {
   "cell_type": "markdown",
   "metadata": {},
   "source": [
    "# TV Script Generation\n",
    "In this project, you'll generate your own [Simpsons](https://en.wikipedia.org/wiki/The_Simpsons) TV scripts using RNNs.  You'll be using part of the [Simpsons dataset](https://www.kaggle.com/wcukierski/the-simpsons-by-the-data) of scripts from 27 seasons.  The Neural Network you'll build will generate a new TV script for a scene at [Moe's Tavern](https://simpsonswiki.com/wiki/Moe's_Tavern).\n",
    "## Get the Data\n",
    "The data is already provided for you.  You'll be using a subset of the original dataset.  It consists of only the scenes in Moe's Tavern.  This doesn't include other versions of the tavern, like \"Moe's Cavern\", \"Flaming Moe's\", \"Uncle Moe's Family Feed-Bag\", etc.."
   ]
  },
  {
   "cell_type": "code",
   "execution_count": 1,
   "metadata": {
    "collapsed": true
   },
   "outputs": [],
   "source": [
    "\"\"\"\n",
    "DON'T MODIFY ANYTHING IN THIS CELL\n",
    "\"\"\"\n",
    "import helper\n",
    "\n",
    "data_dir = './data/simpsons/moes_tavern_lines.txt'\n",
    "text = helper.load_data(data_dir)\n",
    "# Ignore notice, since we don't use it for analysing the data\n",
    "text = text[81:]"
   ]
  },
  {
   "cell_type": "markdown",
   "metadata": {},
   "source": [
    "## Explore the Data\n",
    "Play around with `view_sentence_range` to view different parts of the data."
   ]
  },
  {
   "cell_type": "code",
   "execution_count": 2,
   "metadata": {},
   "outputs": [
    {
     "name": "stdout",
     "output_type": "stream",
     "text": [
      "Dataset Stats\n",
      "Roughly the number of unique words: 11492\n",
      "Number of scenes: 262\n",
      "Average number of sentences in each scene: 15.248091603053435\n",
      "Number of lines: 4257\n",
      "Average number of words in each line: 11.50434578341555\n",
      "\n",
      "The sentences 0 to 10:\n",
      "Moe_Szyslak: (INTO PHONE) Moe's Tavern. Where the elite meet to drink.\n",
      "Bart_Simpson: Eh, yeah, hello, is Mike there? Last name, Rotch.\n",
      "Moe_Szyslak: (INTO PHONE) Hold on, I'll check. (TO BARFLIES) Mike Rotch. Mike Rotch. Hey, has anybody seen Mike Rotch, lately?\n",
      "Moe_Szyslak: (INTO PHONE) Listen you little puke. One of these days I'm gonna catch you, and I'm gonna carve my name on your back with an ice pick.\n",
      "Moe_Szyslak: What's the matter Homer? You're not your normal effervescent self.\n",
      "Homer_Simpson: I got my problems, Moe. Give me another one.\n",
      "Moe_Szyslak: Homer, hey, you should not drink to forget your problems.\n",
      "Barney_Gumble: Yeah, you should only drink to enhance your social skills.\n",
      "\n",
      "\n"
     ]
    }
   ],
   "source": [
    "view_sentence_range = (0, 10)\n",
    "\n",
    "\"\"\"\n",
    "DON'T MODIFY ANYTHING IN THIS CELL\n",
    "\"\"\"\n",
    "import numpy as np\n",
    "\n",
    "print('Dataset Stats')\n",
    "print('Roughly the number of unique words: {}'.format(len({word: None for word in text.split()})))\n",
    "scenes = text.split('\\n\\n')\n",
    "print('Number of scenes: {}'.format(len(scenes)))\n",
    "sentence_count_scene = [scene.count('\\n') for scene in scenes]\n",
    "print('Average number of sentences in each scene: {}'.format(np.average(sentence_count_scene)))\n",
    "\n",
    "sentences = [sentence for scene in scenes for sentence in scene.split('\\n')]\n",
    "print('Number of lines: {}'.format(len(sentences)))\n",
    "word_count_sentence = [len(sentence.split()) for sentence in sentences]\n",
    "print('Average number of words in each line: {}'.format(np.average(word_count_sentence)))\n",
    "\n",
    "print()\n",
    "print('The sentences {} to {}:'.format(*view_sentence_range))\n",
    "print('\\n'.join(text.split('\\n')[view_sentence_range[0]:view_sentence_range[1]]))"
   ]
  },
  {
   "cell_type": "markdown",
   "metadata": {},
   "source": [
    "## Implement Preprocessing Functions\n",
    "The first thing to do to any dataset is preprocessing.  Implement the following preprocessing functions below:\n",
    "- Lookup Table\n",
    "- Tokenize Punctuation\n",
    "\n",
    "### Lookup Table\n",
    "To create a word embedding, you first need to transform the words to ids.  In this function, create two dictionaries:\n",
    "- Dictionary to go from the words to an id, we'll call `vocab_to_int`\n",
    "- Dictionary to go from the id to word, we'll call `int_to_vocab`\n",
    "\n",
    "Return these dictionaries in the following tuple `(vocab_to_int, int_to_vocab)`"
   ]
  },
  {
   "cell_type": "code",
   "execution_count": 3,
   "metadata": {},
   "outputs": [
    {
     "name": "stdout",
     "output_type": "stream",
     "text": [
      "Tests Passed\n"
     ]
    }
   ],
   "source": [
    "import numpy as np\n",
    "import problem_unittests as tests\n",
    "from collections import Counter\n",
    "\n",
    "def create_lookup_tables(text):\n",
    "    \"\"\"\n",
    "    Create lookup tables for vocabulary\n",
    "    :param text: The text of tv scripts split into words\n",
    "    :return: A tuple of dicts (vocab_to_int, int_to_vocab)\n",
    "    \"\"\"\n",
    "    # TODO: Implement Function\n",
    "    word_counts = Counter(text)\n",
    "    #sorted_vocab = sorted(word_counts, key=word_counts.get, reverse=True)\n",
    "    int_to_vocab = {ii: word for ii, word in enumerate(word_counts)}\n",
    "    vocab_to_int = {word: ii for ii, word in int_to_vocab.items()}\n",
    "    return (vocab_to_int, int_to_vocab)\n",
    "\n",
    "\n",
    "\"\"\"\n",
    "DON'T MODIFY ANYTHING IN THIS CELL THAT IS BELOW THIS LINE\n",
    "\"\"\"\n",
    "tests.test_create_lookup_tables(create_lookup_tables)"
   ]
  },
  {
   "cell_type": "markdown",
   "metadata": {},
   "source": [
    "### Tokenize Punctuation\n",
    "We'll be splitting the script into a word array using spaces as delimiters.  However, punctuations like periods and exclamation marks make it hard for the neural network to distinguish between the word \"bye\" and \"bye!\".\n",
    "\n",
    "Implement the function `token_lookup` to return a dict that will be used to tokenize symbols like \"!\" into \"||Exclamation_Mark||\".  Create a dictionary for the following symbols where the symbol is the key and value is the token:\n",
    "- Period ( . )\n",
    "- Comma ( , )\n",
    "- Quotation Mark ( \" )\n",
    "- Semicolon ( ; )\n",
    "- Exclamation mark ( ! )\n",
    "- Question mark ( ? )\n",
    "- Left Parentheses ( ( )\n",
    "- Right Parentheses ( ) )\n",
    "- Dash ( -- )\n",
    "- Return ( \\n )\n",
    "\n",
    "This dictionary will be used to token the symbols and add the delimiter (space) around it.  This separates the symbols as it's own word, making it easier for the neural network to predict on the next word. Make sure you don't use a token that could be confused as a word. Instead of using the token \"dash\", try using something like \"||dash||\"."
   ]
  },
  {
   "cell_type": "code",
   "execution_count": 4,
   "metadata": {},
   "outputs": [
    {
     "name": "stdout",
     "output_type": "stream",
     "text": [
      "Tests Passed\n"
     ]
    }
   ],
   "source": [
    "def token_lookup():\n",
    "    \"\"\"\n",
    "    Generate a dict to turn punctuation into a token.\n",
    "    :return: Tokenize dictionary where the key is the punctuation and the value is the token\n",
    "    \"\"\"\n",
    "    # TODO: Implement Function\n",
    "    remove_token = {\n",
    "        '.' :'||Period||',\n",
    "        ',' : '||Comma||',\n",
    "        '\"' : '||Quotation-mark||',\n",
    "        ';' : '||Semicolon||',\n",
    "        '!' : '||Exclamation-mark||',\n",
    "        '?' : '||Question-mark||',\n",
    "        '(' : '||LeftParentheses||',\n",
    "        ')' : '||RightParentheses||',\n",
    "        '--' : '||Dash||',\n",
    "        '\\n' : '||Return||'\n",
    "    }\n",
    "    return remove_token\n",
    "\n",
    "\"\"\"\n",
    "DON'T MODIFY ANYTHING IN THIS CELL THAT IS BELOW THIS LINE\n",
    "\"\"\"\n",
    "tests.test_tokenize(token_lookup)"
   ]
  },
  {
   "cell_type": "markdown",
   "metadata": {},
   "source": [
    "## Preprocess all the data and save it\n",
    "Running the code cell below will preprocess all the data and save it to file."
   ]
  },
  {
   "cell_type": "code",
   "execution_count": 5,
   "metadata": {
    "collapsed": true
   },
   "outputs": [],
   "source": [
    "\"\"\"\n",
    "DON'T MODIFY ANYTHING IN THIS CELL\n",
    "\"\"\"\n",
    "# Preprocess Training, Validation, and Testing Data\n",
    "helper.preprocess_and_save_data(data_dir, token_lookup, create_lookup_tables)"
   ]
  },
  {
   "cell_type": "markdown",
   "metadata": {},
   "source": [
    "# Check Point\n",
    "This is your first checkpoint. If you ever decide to come back to this notebook or have to restart the notebook, you can start from here. The preprocessed data has been saved to disk."
   ]
  },
  {
   "cell_type": "code",
   "execution_count": 1,
   "metadata": {
    "collapsed": true
   },
   "outputs": [],
   "source": [
    "\"\"\"\n",
    "DON'T MODIFY ANYTHING IN THIS CELL\n",
    "\"\"\"\n",
    "import helper\n",
    "import numpy as np\n",
    "import problem_unittests as tests\n",
    "\n",
    "int_text, vocab_to_int, int_to_vocab, token_dict = helper.load_preprocess()"
   ]
  },
  {
   "cell_type": "markdown",
   "metadata": {},
   "source": [
    "## Build the Neural Network\n",
    "You'll build the components necessary to build a RNN by implementing the following functions below:\n",
    "- get_inputs\n",
    "- get_init_cell\n",
    "- get_embed\n",
    "- build_rnn\n",
    "- build_nn\n",
    "- get_batches\n",
    "\n",
    "### Check the Version of TensorFlow and Access to GPU"
   ]
  },
  {
   "cell_type": "code",
   "execution_count": 4,
   "metadata": {},
   "outputs": [
    {
     "name": "stdout",
     "output_type": "stream",
     "text": [
      "TensorFlow Version: 1.0.1\n",
      "Default GPU Device: /gpu:0\n"
     ]
    }
   ],
   "source": [
    "\"\"\"\n",
    "DON'T MODIFY ANYTHING IN THIS CELL\n",
    "\"\"\"\n",
    "from distutils.version import LooseVersion\n",
    "import warnings\n",
    "import tensorflow as tf\n",
    "\n",
    "# Check TensorFlow Version\n",
    "assert LooseVersion(tf.__version__) >= LooseVersion('1.0'), 'Please use TensorFlow version 1.0 or newer'\n",
    "print('TensorFlow Version: {}'.format(tf.__version__))\n",
    "\n",
    "# Check for a GPU\n",
    "if not tf.test.gpu_device_name():\n",
    "    warnings.warn('No GPU found. Please use a GPU to train your neural network.')\n",
    "else:\n",
    "    print('Default GPU Device: {}'.format(tf.test.gpu_device_name()))"
   ]
  },
  {
   "cell_type": "markdown",
   "metadata": {},
   "source": [
    "### Input\n",
    "Implement the `get_inputs()` function to create TF Placeholders for the Neural Network.  It should create the following placeholders:\n",
    "- Input text placeholder named \"input\" using the [TF Placeholder](https://www.tensorflow.org/api_docs/python/tf/placeholder) `name` parameter.\n",
    "- Targets placeholder\n",
    "- Learning Rate placeholder\n",
    "\n",
    "Return the placeholders in the following tuple `(Input, Targets, LearningRate)`"
   ]
  },
  {
   "cell_type": "code",
   "execution_count": 6,
   "metadata": {},
   "outputs": [
    {
     "name": "stdout",
     "output_type": "stream",
     "text": [
      "Tests Passed\n"
     ]
    }
   ],
   "source": [
    "def get_inputs():\n",
    "    \"\"\"\n",
    "    Create TF Placeholders for input, targets, and learning rate.\n",
    "    :return: Tuple (input, targets, learning rate)\n",
    "    \"\"\"\n",
    "    # TODO: Implement Function\n",
    "    inputs = tf.placeholder(tf.int32, [None, None], name = 'input')\n",
    "    targets = tf.placeholder(tf.int32, [None, None], name = 'target')\n",
    "    learning_rate = tf.placeholder(tf.float32, name = 'lr')\n",
    "    return inputs, targets, learning_rate\n",
    "\n",
    "\n",
    "\"\"\"\n",
    "DON'T MODIFY ANYTHING IN THIS CELL THAT IS BELOW THIS LINE\n",
    "\"\"\"\n",
    "tests.test_get_inputs(get_inputs)"
   ]
  },
  {
   "cell_type": "markdown",
   "metadata": {},
   "source": [
    "### Build RNN Cell and Initialize\n",
    "Stack one or more [`BasicLSTMCells`](https://www.tensorflow.org/api_docs/python/tf/contrib/rnn/BasicLSTMCell) in a [`MultiRNNCell`](https://www.tensorflow.org/api_docs/python/tf/contrib/rnn/MultiRNNCell).\n",
    "- The Rnn size should be set using `rnn_size`\n",
    "- Initalize Cell State using the MultiRNNCell's [`zero_state()`](https://www.tensorflow.org/api_docs/python/tf/contrib/rnn/MultiRNNCell#zero_state) function\n",
    "    - Apply the name \"initial_state\" to the initial state using [`tf.identity()`](https://www.tensorflow.org/api_docs/python/tf/identity)\n",
    "\n",
    "Return the cell and initial state in the following tuple `(Cell, InitialState)`"
   ]
  },
  {
   "cell_type": "markdown",
   "metadata": {},
   "source": [
    "当我使用tensorflow 1.2时，无法通过测试，报错原因batch_size只能是scalar，而不能是placeholder"
   ]
  },
  {
   "cell_type": "code",
   "execution_count": 7,
   "metadata": {},
   "outputs": [
    {
     "name": "stdout",
     "output_type": "stream",
     "text": [
      "Tests Passed\n"
     ]
    }
   ],
   "source": [
    "def get_init_cell(batch_size, rnn_size):\n",
    "    \"\"\"\n",
    "    Create an RNN Cell and initialize it.\n",
    "    :param batch_size: Size of batches\n",
    "    :param rnn_size: Size of RNNs\n",
    "    :return: Tuple (cell, initialize state)\n",
    "    \"\"\"\n",
    "    # TODO: Implement Function\n",
    "    lstm_layer = 2\n",
    "    keep_prob = 0.8\n",
    "    \n",
    "    lstm = tf.contrib.rnn.BasicLSTMCell(rnn_size)\n",
    "    drop = tf.contrib.rnn.DropoutWrapper(lstm, output_keep_prob=keep_prob)\n",
    "    cell = tf.contrib.rnn.MultiRNNCell([drop] * lstm_layer)\n",
    "    initial_state = cell.zero_state(batch_size, tf.float32)\n",
    "    initial_state = tf.identity(initial_state, 'initial_state')\n",
    "    \n",
    "    return cell, initial_state\n",
    "\n",
    "\n",
    "\"\"\"\n",
    "DON'T MODIFY ANYTHING IN THIS CELL THAT IS BELOW THIS LINE\n",
    "\"\"\"\n",
    "tests.test_get_init_cell(get_init_cell)"
   ]
  },
  {
   "cell_type": "markdown",
   "metadata": {},
   "source": [
    "### Word Embedding\n",
    "Apply embedding to `input_data` using TensorFlow.  Return the embedded sequence."
   ]
  },
  {
   "cell_type": "code",
   "execution_count": 8,
   "metadata": {},
   "outputs": [
    {
     "name": "stdout",
     "output_type": "stream",
     "text": [
      "Tests Passed\n"
     ]
    }
   ],
   "source": [
    "def get_embed(input_data, vocab_size, embed_dim):\n",
    "    \"\"\"\n",
    "    Create embedding for <input_data>.\n",
    "    :param input_data: TF placeholder for text input.\n",
    "    :param vocab_size: Number of words in vocabulary.\n",
    "    :param embed_dim: Number of embedding dimensions\n",
    "    :return: Embedded input.\n",
    "    \"\"\"\n",
    "    # TODO: Implement Function\n",
    "    return tf.contrib.layers.embed_sequence(input_data, vocab_size, embed_dim)\n",
    "\n",
    "\n",
    "\"\"\"\n",
    "DON'T MODIFY ANYTHING IN THIS CELL THAT IS BELOW THIS LINE\n",
    "\"\"\"\n",
    "tests.test_get_embed(get_embed)"
   ]
  },
  {
   "cell_type": "markdown",
   "metadata": {},
   "source": [
    "### Build RNN\n",
    "You created a RNN Cell in the `get_init_cell()` function.  Time to use the cell to create a RNN.\n",
    "- Build the RNN using the [`tf.nn.dynamic_rnn()`](https://www.tensorflow.org/api_docs/python/tf/nn/dynamic_rnn)\n",
    " - Apply the name \"final_state\" to the final state using [`tf.identity()`](https://www.tensorflow.org/api_docs/python/tf/identity)\n",
    "\n",
    "Return the outputs and final_state state in the following tuple `(Outputs, FinalState)` "
   ]
  },
  {
   "cell_type": "code",
   "execution_count": 9,
   "metadata": {},
   "outputs": [
    {
     "name": "stdout",
     "output_type": "stream",
     "text": [
      "Tests Passed\n"
     ]
    }
   ],
   "source": [
    "def build_rnn(cell, inputs):\n",
    "    \"\"\"\n",
    "    Create a RNN using a RNN Cell\n",
    "    :param cell: RNN Cell\n",
    "    :param inputs: Input text data\n",
    "    :return: Tuple (Outputs, Final State)\n",
    "    \"\"\"\n",
    "    # TODO: Implement Function\n",
    "    outputs, final_state = tf.nn.dynamic_rnn(cell, inputs, dtype=tf.float32)\n",
    "    final_state = tf.identity(final_state, 'final_state')\n",
    "    return outputs, final_state\n",
    "\n",
    "\n",
    "\"\"\"\n",
    "DON'T MODIFY ANYTHING IN THIS CELL THAT IS BELOW THIS LINE\n",
    "\"\"\"\n",
    "tests.test_build_rnn(build_rnn)"
   ]
  },
  {
   "cell_type": "markdown",
   "metadata": {},
   "source": [
    "### Build the Neural Network\n",
    "Apply the functions you implemented above to:\n",
    "- Apply embedding to `input_data` using your `get_embed(input_data, vocab_size, embed_dim)` function.\n",
    "- Build RNN using `cell` and your `build_rnn(cell, inputs)` function.\n",
    "- Apply a fully connected layer with a linear activation and `vocab_size` as the number of outputs.\n",
    "\n",
    "Return the logits and final state in the following tuple (Logits, FinalState) "
   ]
  },
  {
   "cell_type": "code",
   "execution_count": 10,
   "metadata": {},
   "outputs": [
    {
     "name": "stdout",
     "output_type": "stream",
     "text": [
      "Tests Passed\n"
     ]
    }
   ],
   "source": [
    "def build_nn(cell, rnn_size, input_data, vocab_size, embed_dim):\n",
    "    \"\"\"\n",
    "    Build part of the neural network\n",
    "    :param cell: RNN cell\n",
    "    :param rnn_size: Size of rnns\n",
    "    :param input_data: Input data\n",
    "    :param vocab_size: Vocabulary size\n",
    "    :param embed_dim: Number of embedding dimensions\n",
    "    :return: Tuple (Logits, FinalState)\n",
    "    \"\"\"\n",
    "    # TODO: Implement Function\n",
    "    embed = get_embed(input_data, vocab_size, embed_dim)\n",
    "    output, final_state = build_rnn(cell, embed)\n",
    "    logits = tf.contrib.layers.fully_connected(inputs = output, num_outputs = vocab_size, activation_fn = None)\n",
    "    \n",
    "    return logits, final_state\n",
    "\n",
    "\n",
    "\"\"\"\n",
    "DON'T MODIFY ANYTHING IN THIS CELL THAT IS BELOW THIS LINE\n",
    "\"\"\"\n",
    "tests.test_build_nn(build_nn)"
   ]
  },
  {
   "cell_type": "markdown",
   "metadata": {},
   "source": [
    "### Batches\n",
    "Implement `get_batches` to create batches of input and targets using `int_text`.  The batches should be a Numpy array with the shape `(number of batches, 2, batch size, sequence length)`. Each batch contains two elements:\n",
    "- The first element is a single batch of **input** with the shape `[batch size, sequence length]`\n",
    "- The second element is a single batch of **targets** with the shape `[batch size, sequence length]`\n",
    "\n",
    "If you can't fill the last batch with enough data, drop the last batch.\n",
    "\n",
    "For exmple, `get_batches([1, 2, 3, 4, 5, 6, 7, 8, 9, 10, 11, 12, 13, 14, 15], 2, 3)` would return a Numpy array of the following:\n",
    "```\n",
    "[\n",
    "  # First Batch\n",
    "  [\n",
    "    # Batch of Input\n",
    "    [[ 1  2  3], [ 7  8  9]],\n",
    "    # Batch of targets\n",
    "    [[ 2  3  4], [ 8  9 10]]\n",
    "  ],\n",
    " \n",
    "  # Second Batch\n",
    "  [\n",
    "    # Batch of Input\n",
    "    [[ 4  5  6], [10 11 12]],\n",
    "    # Batch of targets\n",
    "    [[ 5  6  7], [11 12 13]]\n",
    "  ]\n",
    "]\n",
    "```"
   ]
  },
  {
   "cell_type": "code",
   "execution_count": 11,
   "metadata": {},
   "outputs": [
    {
     "name": "stdout",
     "output_type": "stream",
     "text": [
      "Tests Passed\n"
     ]
    }
   ],
   "source": [
    "def get_batches(int_text, batch_size, seq_length):\n",
    "    \"\"\"\n",
    "    Return batches of input and target\n",
    "    :param int_text: Text with the words replaced by their ids\n",
    "    :param batch_size: The size of batch\n",
    "    :param seq_length: The length of sequence\n",
    "    :return: Batches as a Numpy array\n",
    "    \"\"\"\n",
    "    # TODO: Implement Function\n",
    "    inputs, targets, batches = [], [], []\n",
    "    num_elements_batch = seq_length * batch_size\n",
    "    num_batches = len(int_text) // num_elements_batch\n",
    "    x = int_text[:num_batches*num_elements_batch]\n",
    "    y = int_text[1:num_batches*num_elements_batch+1]\n",
    "    for j in range(0,len(x),seq_length):\n",
    "        inputs.append(x[j:j+seq_length])\n",
    "        targets.append(y[j:j+seq_length])\n",
    "    dict_i, dict_t = {}, {}\n",
    "    for i in range(num_batches):\n",
    "        dict_i[i] = []\n",
    "        dict_t[i] = []\n",
    "    for ii in range(0,len(inputs)):\n",
    "        index = int(ii % num_batches)\n",
    "        dict_i[index].append(inputs[ii])\n",
    "        dict_t[index].append(targets[ii])\n",
    "    for i in range(num_batches):\n",
    "        batch = [dict_i[i], dict_t[i]]\n",
    "        batches.append(batch)\n",
    "    batches = np.array(batches)\n",
    "    return batches\n",
    "\n",
    "\n",
    "\"\"\"\n",
    "DON'T MODIFY ANYTHING IN THIS CELL THAT IS BELOW THIS LINE\n",
    "\"\"\"\n",
    "tests.test_get_batches(get_batches)"
   ]
  },
  {
   "cell_type": "markdown",
   "metadata": {},
   "source": [
    "## Neural Network Training\n",
    "### Hyperparameters\n",
    "Tune the following parameters:\n",
    "\n",
    "- Set `num_epochs` to the number of epochs.\n",
    "- Set `batch_size` to the batch size.\n",
    "- Set `rnn_size` to the size of the RNNs.\n",
    "- Set `embed_dim` to the size of the embedding.\n",
    "- Set `seq_length` to the length of sequence.\n",
    "- Set `learning_rate` to the learning rate.\n",
    "- Set `show_every_n_batches` to the number of batches the neural network should print progress."
   ]
  },
  {
   "cell_type": "code",
   "execution_count": 25,
   "metadata": {
    "collapsed": true
   },
   "outputs": [],
   "source": [
    "# Number of Epochs\n",
    "num_epochs = 100\n",
    "# Batch Size\n",
    "batch_size = 64\n",
    "# RNN Size\n",
    "rnn_size = 512\n",
    "# Embedding Dimension Size\n",
    "embed_dim = 256\n",
    "# Sequence Length\n",
    "seq_length = 8\n",
    "# Learning Rate\n",
    "learning_rate = 0.001\n",
    "# Show stats for every n number of batches\n",
    "show_every_n_batches = 50\n",
    "\n",
    "\"\"\"\n",
    "DON'T MODIFY ANYTHING IN THIS CELL THAT IS BELOW THIS LINE\n",
    "\"\"\"\n",
    "save_dir = './save'"
   ]
  },
  {
   "cell_type": "markdown",
   "metadata": {},
   "source": [
    "### Build the Graph\n",
    "Build the graph using the neural network you implemented."
   ]
  },
  {
   "cell_type": "markdown",
   "metadata": {},
   "source": [
    "softmax\n",
    "\n",
    "seq2seq_loss\n",
    "\n",
    "Adam with gradient clipping"
   ]
  },
  {
   "cell_type": "code",
   "execution_count": 26,
   "metadata": {},
   "outputs": [],
   "source": [
    "\"\"\"\n",
    "DON'T MODIFY ANYTHING IN THIS CELL\n",
    "\"\"\"\n",
    "from tensorflow.contrib import seq2seq\n",
    "\n",
    "train_graph = tf.Graph()\n",
    "with train_graph.as_default():\n",
    "    vocab_size = len(int_to_vocab)\n",
    "    input_text, targets, lr = get_inputs()\n",
    "    input_data_shape = tf.shape(input_text)\n",
    "    cell, initial_state = get_init_cell(input_data_shape[0], rnn_size)\n",
    "    logits, final_state = build_nn(cell, rnn_size, input_text, vocab_size, embed_dim)\n",
    "\n",
    "    # Probabilities for generating words\n",
    "    probs = tf.nn.softmax(logits, name='probs')\n",
    "\n",
    "    # Loss function\n",
    "    cost = seq2seq.sequence_loss(\n",
    "        logits,\n",
    "        targets,\n",
    "        tf.ones([input_data_shape[0], input_data_shape[1]]))\n",
    "\n",
    "    # Optimizer\n",
    "    optimizer = tf.train.AdamOptimizer(lr)\n",
    "\n",
    "    # Gradient Clipping\n",
    "    gradients = optimizer.compute_gradients(cost)\n",
    "    capped_gradients = [(tf.clip_by_value(grad, -1., 1.), var) for grad, var in gradients if grad is not None]\n",
    "    train_op = optimizer.apply_gradients(capped_gradients)"
   ]
  },
  {
   "cell_type": "markdown",
   "metadata": {},
   "source": [
    "## Train\n",
    "Train the neural network on the preprocessed data.  If you have a hard time getting a good loss, check the [forms](https://discussions.udacity.com/) to see if anyone is having the same problem."
   ]
  },
  {
   "cell_type": "markdown",
   "metadata": {},
   "source": [
    "x和y的维度均为(batch_size,seq_length)\n",
    "\n",
    "x为输入变量，ｙ是标签，用来计算误差"
   ]
  },
  {
   "cell_type": "code",
   "execution_count": 27,
   "metadata": {},
   "outputs": [
    {
     "name": "stdout",
     "output_type": "stream",
     "text": [
      "Epoch   0 Batch    0/134   train_loss = 8.822\n",
      "Epoch   0 Batch   50/134   train_loss = 6.289\n",
      "Epoch   0 Batch  100/134   train_loss = 6.115\n",
      "Epoch   1 Batch   16/134   train_loss = 5.550\n",
      "Epoch   1 Batch   66/134   train_loss = 5.699\n",
      "Epoch   1 Batch  116/134   train_loss = 5.918\n",
      "Epoch   2 Batch   32/134   train_loss = 5.760\n",
      "Epoch   2 Batch   82/134   train_loss = 5.402\n",
      "Epoch   2 Batch  132/134   train_loss = 5.396\n",
      "Epoch   3 Batch   48/134   train_loss = 5.372\n",
      "Epoch   3 Batch   98/134   train_loss = 5.157\n",
      "Epoch   4 Batch   14/134   train_loss = 5.254\n",
      "Epoch   4 Batch   64/134   train_loss = 5.235\n",
      "Epoch   4 Batch  114/134   train_loss = 5.049\n",
      "Epoch   5 Batch   30/134   train_loss = 5.126\n",
      "Epoch   5 Batch   80/134   train_loss = 5.137\n",
      "Epoch   5 Batch  130/134   train_loss = 4.664\n",
      "Epoch   6 Batch   46/134   train_loss = 4.928\n",
      "Epoch   6 Batch   96/134   train_loss = 4.868\n",
      "Epoch   7 Batch   12/134   train_loss = 4.768\n",
      "Epoch   7 Batch   62/134   train_loss = 4.840\n",
      "Epoch   7 Batch  112/134   train_loss = 5.052\n",
      "Epoch   8 Batch   28/134   train_loss = 4.780\n",
      "Epoch   8 Batch   78/134   train_loss = 4.686\n",
      "Epoch   8 Batch  128/134   train_loss = 4.429\n",
      "Epoch   9 Batch   44/134   train_loss = 4.515\n",
      "Epoch   9 Batch   94/134   train_loss = 4.567\n",
      "Epoch  10 Batch   10/134   train_loss = 4.598\n",
      "Epoch  10 Batch   60/134   train_loss = 4.367\n",
      "Epoch  10 Batch  110/134   train_loss = 4.534\n",
      "Epoch  11 Batch   26/134   train_loss = 4.562\n",
      "Epoch  11 Batch   76/134   train_loss = 4.599\n",
      "Epoch  11 Batch  126/134   train_loss = 4.286\n",
      "Epoch  12 Batch   42/134   train_loss = 4.337\n",
      "Epoch  12 Batch   92/134   train_loss = 4.425\n",
      "Epoch  13 Batch    8/134   train_loss = 4.161\n",
      "Epoch  13 Batch   58/134   train_loss = 4.402\n",
      "Epoch  13 Batch  108/134   train_loss = 4.476\n",
      "Epoch  14 Batch   24/134   train_loss = 4.291\n",
      "Epoch  14 Batch   74/134   train_loss = 4.469\n",
      "Epoch  14 Batch  124/134   train_loss = 4.370\n",
      "Epoch  15 Batch   40/134   train_loss = 4.194\n",
      "Epoch  15 Batch   90/134   train_loss = 4.177\n",
      "Epoch  16 Batch    6/134   train_loss = 4.152\n",
      "Epoch  16 Batch   56/134   train_loss = 4.139\n",
      "Epoch  16 Batch  106/134   train_loss = 4.274\n",
      "Epoch  17 Batch   22/134   train_loss = 4.044\n",
      "Epoch  17 Batch   72/134   train_loss = 4.024\n",
      "Epoch  17 Batch  122/134   train_loss = 3.999\n",
      "Epoch  18 Batch   38/134   train_loss = 3.946\n",
      "Epoch  18 Batch   88/134   train_loss = 4.051\n",
      "Epoch  19 Batch    4/134   train_loss = 3.769\n",
      "Epoch  19 Batch   54/134   train_loss = 3.986\n",
      "Epoch  19 Batch  104/134   train_loss = 4.023\n",
      "Epoch  20 Batch   20/134   train_loss = 3.731\n",
      "Epoch  20 Batch   70/134   train_loss = 3.859\n",
      "Epoch  20 Batch  120/134   train_loss = 3.794\n",
      "Epoch  21 Batch   36/134   train_loss = 3.950\n",
      "Epoch  21 Batch   86/134   train_loss = 3.779\n",
      "Epoch  22 Batch    2/134   train_loss = 3.656\n",
      "Epoch  22 Batch   52/134   train_loss = 3.587\n",
      "Epoch  22 Batch  102/134   train_loss = 3.838\n",
      "Epoch  23 Batch   18/134   train_loss = 3.618\n",
      "Epoch  23 Batch   68/134   train_loss = 3.869\n",
      "Epoch  23 Batch  118/134   train_loss = 3.693\n",
      "Epoch  24 Batch   34/134   train_loss = 3.694\n",
      "Epoch  24 Batch   84/134   train_loss = 3.530\n",
      "Epoch  25 Batch    0/134   train_loss = 3.609\n",
      "Epoch  25 Batch   50/134   train_loss = 3.577\n",
      "Epoch  25 Batch  100/134   train_loss = 3.438\n",
      "Epoch  26 Batch   16/134   train_loss = 3.353\n",
      "Epoch  26 Batch   66/134   train_loss = 3.429\n",
      "Epoch  26 Batch  116/134   train_loss = 3.567\n",
      "Epoch  27 Batch   32/134   train_loss = 3.365\n",
      "Epoch  27 Batch   82/134   train_loss = 3.335\n",
      "Epoch  27 Batch  132/134   train_loss = 3.351\n",
      "Epoch  28 Batch   48/134   train_loss = 3.485\n",
      "Epoch  28 Batch   98/134   train_loss = 3.292\n",
      "Epoch  29 Batch   14/134   train_loss = 3.455\n",
      "Epoch  29 Batch   64/134   train_loss = 3.272\n",
      "Epoch  29 Batch  114/134   train_loss = 3.164\n",
      "Epoch  30 Batch   30/134   train_loss = 3.226\n",
      "Epoch  30 Batch   80/134   train_loss = 3.220\n",
      "Epoch  30 Batch  130/134   train_loss = 3.111\n",
      "Epoch  31 Batch   46/134   train_loss = 3.252\n",
      "Epoch  31 Batch   96/134   train_loss = 3.230\n",
      "Epoch  32 Batch   12/134   train_loss = 3.177\n",
      "Epoch  32 Batch   62/134   train_loss = 3.209\n",
      "Epoch  32 Batch  112/134   train_loss = 3.135\n",
      "Epoch  33 Batch   28/134   train_loss = 2.990\n",
      "Epoch  33 Batch   78/134   train_loss = 3.079\n",
      "Epoch  33 Batch  128/134   train_loss = 2.923\n",
      "Epoch  34 Batch   44/134   train_loss = 2.964\n",
      "Epoch  34 Batch   94/134   train_loss = 2.987\n",
      "Epoch  35 Batch   10/134   train_loss = 2.969\n",
      "Epoch  35 Batch   60/134   train_loss = 2.725\n",
      "Epoch  35 Batch  110/134   train_loss = 2.802\n",
      "Epoch  36 Batch   26/134   train_loss = 2.818\n",
      "Epoch  36 Batch   76/134   train_loss = 2.888\n",
      "Epoch  36 Batch  126/134   train_loss = 2.803\n",
      "Epoch  37 Batch   42/134   train_loss = 2.809\n",
      "Epoch  37 Batch   92/134   train_loss = 2.679\n",
      "Epoch  38 Batch    8/134   train_loss = 2.593\n",
      "Epoch  38 Batch   58/134   train_loss = 2.809\n",
      "Epoch  38 Batch  108/134   train_loss = 2.872\n",
      "Epoch  39 Batch   24/134   train_loss = 2.803\n",
      "Epoch  39 Batch   74/134   train_loss = 2.747\n",
      "Epoch  39 Batch  124/134   train_loss = 2.557\n",
      "Epoch  40 Batch   40/134   train_loss = 2.679\n",
      "Epoch  40 Batch   90/134   train_loss = 2.409\n",
      "Epoch  41 Batch    6/134   train_loss = 2.658\n",
      "Epoch  41 Batch   56/134   train_loss = 2.396\n",
      "Epoch  41 Batch  106/134   train_loss = 2.572\n",
      "Epoch  42 Batch   22/134   train_loss = 2.410\n",
      "Epoch  42 Batch   72/134   train_loss = 2.406\n",
      "Epoch  42 Batch  122/134   train_loss = 2.439\n",
      "Epoch  43 Batch   38/134   train_loss = 2.370\n",
      "Epoch  43 Batch   88/134   train_loss = 2.361\n",
      "Epoch  44 Batch    4/134   train_loss = 2.405\n",
      "Epoch  44 Batch   54/134   train_loss = 2.303\n",
      "Epoch  44 Batch  104/134   train_loss = 2.411\n",
      "Epoch  45 Batch   20/134   train_loss = 2.296\n",
      "Epoch  45 Batch   70/134   train_loss = 2.302\n",
      "Epoch  45 Batch  120/134   train_loss = 2.147\n",
      "Epoch  46 Batch   36/134   train_loss = 2.222\n",
      "Epoch  46 Batch   86/134   train_loss = 2.264\n",
      "Epoch  47 Batch    2/134   train_loss = 2.145\n",
      "Epoch  47 Batch   52/134   train_loss = 2.208\n",
      "Epoch  47 Batch  102/134   train_loss = 2.325\n",
      "Epoch  48 Batch   18/134   train_loss = 2.080\n",
      "Epoch  48 Batch   68/134   train_loss = 2.257\n",
      "Epoch  48 Batch  118/134   train_loss = 2.129\n",
      "Epoch  49 Batch   34/134   train_loss = 2.241\n",
      "Epoch  49 Batch   84/134   train_loss = 1.905\n",
      "Epoch  50 Batch    0/134   train_loss = 2.091\n",
      "Epoch  50 Batch   50/134   train_loss = 2.009\n",
      "Epoch  50 Batch  100/134   train_loss = 1.949\n",
      "Epoch  51 Batch   16/134   train_loss = 1.894\n",
      "Epoch  51 Batch   66/134   train_loss = 2.009\n",
      "Epoch  51 Batch  116/134   train_loss = 2.044\n",
      "Epoch  52 Batch   32/134   train_loss = 1.755\n",
      "Epoch  52 Batch   82/134   train_loss = 1.875\n",
      "Epoch  52 Batch  132/134   train_loss = 1.845\n",
      "Epoch  53 Batch   48/134   train_loss = 1.912\n",
      "Epoch  53 Batch   98/134   train_loss = 1.915\n",
      "Epoch  54 Batch   14/134   train_loss = 2.005\n",
      "Epoch  54 Batch   64/134   train_loss = 1.796\n",
      "Epoch  54 Batch  114/134   train_loss = 1.752\n",
      "Epoch  55 Batch   30/134   train_loss = 1.693\n",
      "Epoch  55 Batch   80/134   train_loss = 1.762\n",
      "Epoch  55 Batch  130/134   train_loss = 1.824\n",
      "Epoch  56 Batch   46/134   train_loss = 1.848\n",
      "Epoch  56 Batch   96/134   train_loss = 1.803\n",
      "Epoch  57 Batch   12/134   train_loss = 1.717\n",
      "Epoch  57 Batch   62/134   train_loss = 1.890\n",
      "Epoch  57 Batch  112/134   train_loss = 1.740\n",
      "Epoch  58 Batch   28/134   train_loss = 1.625\n",
      "Epoch  58 Batch   78/134   train_loss = 1.841\n",
      "Epoch  58 Batch  128/134   train_loss = 1.591\n",
      "Epoch  59 Batch   44/134   train_loss = 1.622\n",
      "Epoch  59 Batch   94/134   train_loss = 1.629\n",
      "Epoch  60 Batch   10/134   train_loss = 1.525\n",
      "Epoch  60 Batch   60/134   train_loss = 1.453\n",
      "Epoch  60 Batch  110/134   train_loss = 1.524\n",
      "Epoch  61 Batch   26/134   train_loss = 1.528\n",
      "Epoch  61 Batch   76/134   train_loss = 1.441\n",
      "Epoch  61 Batch  126/134   train_loss = 1.503\n",
      "Epoch  62 Batch   42/134   train_loss = 1.470\n",
      "Epoch  62 Batch   92/134   train_loss = 1.272\n",
      "Epoch  63 Batch    8/134   train_loss = 1.381\n",
      "Epoch  63 Batch   58/134   train_loss = 1.547\n",
      "Epoch  63 Batch  108/134   train_loss = 1.448\n",
      "Epoch  64 Batch   24/134   train_loss = 1.539\n",
      "Epoch  64 Batch   74/134   train_loss = 1.424\n",
      "Epoch  64 Batch  124/134   train_loss = 1.462\n",
      "Epoch  65 Batch   40/134   train_loss = 1.540\n",
      "Epoch  65 Batch   90/134   train_loss = 1.318\n",
      "Epoch  66 Batch    6/134   train_loss = 1.307\n",
      "Epoch  66 Batch   56/134   train_loss = 1.243\n"
     ]
    },
    {
     "name": "stdout",
     "output_type": "stream",
     "text": [
      "Epoch  66 Batch  106/134   train_loss = 1.263\n",
      "Epoch  67 Batch   22/134   train_loss = 1.317\n",
      "Epoch  67 Batch   72/134   train_loss = 1.279\n",
      "Epoch  67 Batch  122/134   train_loss = 1.210\n",
      "Epoch  68 Batch   38/134   train_loss = 1.165\n",
      "Epoch  68 Batch   88/134   train_loss = 1.181\n",
      "Epoch  69 Batch    4/134   train_loss = 1.281\n",
      "Epoch  69 Batch   54/134   train_loss = 1.195\n",
      "Epoch  69 Batch  104/134   train_loss = 1.309\n",
      "Epoch  70 Batch   20/134   train_loss = 1.230\n",
      "Epoch  70 Batch   70/134   train_loss = 1.260\n",
      "Epoch  70 Batch  120/134   train_loss = 1.082\n",
      "Epoch  71 Batch   36/134   train_loss = 1.209\n",
      "Epoch  71 Batch   86/134   train_loss = 1.133\n",
      "Epoch  72 Batch    2/134   train_loss = 1.124\n",
      "Epoch  72 Batch   52/134   train_loss = 1.228\n",
      "Epoch  72 Batch  102/134   train_loss = 1.328\n",
      "Epoch  73 Batch   18/134   train_loss = 1.109\n",
      "Epoch  73 Batch   68/134   train_loss = 1.208\n",
      "Epoch  73 Batch  118/134   train_loss = 1.194\n",
      "Epoch  74 Batch   34/134   train_loss = 1.263\n",
      "Epoch  74 Batch   84/134   train_loss = 0.969\n",
      "Epoch  75 Batch    0/134   train_loss = 1.120\n",
      "Epoch  75 Batch   50/134   train_loss = 1.084\n",
      "Epoch  75 Batch  100/134   train_loss = 1.090\n",
      "Epoch  76 Batch   16/134   train_loss = 1.070\n",
      "Epoch  76 Batch   66/134   train_loss = 0.962\n",
      "Epoch  76 Batch  116/134   train_loss = 1.118\n",
      "Epoch  77 Batch   32/134   train_loss = 0.921\n",
      "Epoch  77 Batch   82/134   train_loss = 1.031\n",
      "Epoch  77 Batch  132/134   train_loss = 0.985\n",
      "Epoch  78 Batch   48/134   train_loss = 1.025\n",
      "Epoch  78 Batch   98/134   train_loss = 1.062\n",
      "Epoch  79 Batch   14/134   train_loss = 1.113\n",
      "Epoch  79 Batch   64/134   train_loss = 1.025\n",
      "Epoch  79 Batch  114/134   train_loss = 1.009\n",
      "Epoch  80 Batch   30/134   train_loss = 0.923\n",
      "Epoch  80 Batch   80/134   train_loss = 0.917\n",
      "Epoch  80 Batch  130/134   train_loss = 1.026\n",
      "Epoch  81 Batch   46/134   train_loss = 1.078\n",
      "Epoch  81 Batch   96/134   train_loss = 0.956\n",
      "Epoch  82 Batch   12/134   train_loss = 0.928\n",
      "Epoch  82 Batch   62/134   train_loss = 1.048\n",
      "Epoch  82 Batch  112/134   train_loss = 1.023\n",
      "Epoch  83 Batch   28/134   train_loss = 0.873\n",
      "Epoch  83 Batch   78/134   train_loss = 1.056\n",
      "Epoch  83 Batch  128/134   train_loss = 0.878\n",
      "Epoch  84 Batch   44/134   train_loss = 0.913\n",
      "Epoch  84 Batch   94/134   train_loss = 0.943\n",
      "Epoch  85 Batch   10/134   train_loss = 0.890\n",
      "Epoch  85 Batch   60/134   train_loss = 0.828\n",
      "Epoch  85 Batch  110/134   train_loss = 0.909\n",
      "Epoch  86 Batch   26/134   train_loss = 0.899\n",
      "Epoch  86 Batch   76/134   train_loss = 0.793\n",
      "Epoch  86 Batch  126/134   train_loss = 0.898\n",
      "Epoch  87 Batch   42/134   train_loss = 0.924\n",
      "Epoch  87 Batch   92/134   train_loss = 0.720\n",
      "Epoch  88 Batch    8/134   train_loss = 0.856\n",
      "Epoch  88 Batch   58/134   train_loss = 0.843\n",
      "Epoch  88 Batch  108/134   train_loss = 0.938\n",
      "Epoch  89 Batch   24/134   train_loss = 0.990\n",
      "Epoch  89 Batch   74/134   train_loss = 0.855\n",
      "Epoch  89 Batch  124/134   train_loss = 0.842\n",
      "Epoch  90 Batch   40/134   train_loss = 0.972\n",
      "Epoch  90 Batch   90/134   train_loss = 0.804\n",
      "Epoch  91 Batch    6/134   train_loss = 0.774\n",
      "Epoch  91 Batch   56/134   train_loss = 0.757\n",
      "Epoch  91 Batch  106/134   train_loss = 0.719\n",
      "Epoch  92 Batch   22/134   train_loss = 0.753\n",
      "Epoch  92 Batch   72/134   train_loss = 0.802\n",
      "Epoch  92 Batch  122/134   train_loss = 0.825\n",
      "Epoch  93 Batch   38/134   train_loss = 0.759\n",
      "Epoch  93 Batch   88/134   train_loss = 0.733\n",
      "Epoch  94 Batch    4/134   train_loss = 0.773\n",
      "Epoch  94 Batch   54/134   train_loss = 0.745\n",
      "Epoch  94 Batch  104/134   train_loss = 0.801\n",
      "Epoch  95 Batch   20/134   train_loss = 0.742\n",
      "Epoch  95 Batch   70/134   train_loss = 0.837\n",
      "Epoch  95 Batch  120/134   train_loss = 0.714\n",
      "Epoch  96 Batch   36/134   train_loss = 0.801\n",
      "Epoch  96 Batch   86/134   train_loss = 0.790\n",
      "Epoch  97 Batch    2/134   train_loss = 0.659\n",
      "Epoch  97 Batch   52/134   train_loss = 0.838\n",
      "Epoch  97 Batch  102/134   train_loss = 0.806\n",
      "Epoch  98 Batch   18/134   train_loss = 0.705\n",
      "Epoch  98 Batch   68/134   train_loss = 0.820\n",
      "Epoch  98 Batch  118/134   train_loss = 0.842\n",
      "Epoch  99 Batch   34/134   train_loss = 0.870\n",
      "Epoch  99 Batch   84/134   train_loss = 0.656\n",
      "Model Trained and Saved\n"
     ]
    }
   ],
   "source": [
    "\"\"\"\n",
    "DON'T MODIFY ANYTHING IN THIS CELL\n",
    "\"\"\"\n",
    "batches = get_batches(int_text, batch_size, seq_length)\n",
    "\n",
    "with tf.Session(graph=train_graph) as sess:\n",
    "    sess.run(tf.global_variables_initializer())\n",
    "\n",
    "    for epoch_i in range(num_epochs):\n",
    "        state = sess.run(initial_state, {input_text: batches[0][0]})\n",
    "\n",
    "        for batch_i, (x, y) in enumerate(batches):\n",
    "            feed = {\n",
    "                input_text: x,\n",
    "                targets: y,\n",
    "                initial_state: state,\n",
    "                lr: learning_rate}\n",
    "            train_loss, state, _ = sess.run([cost, final_state, train_op], feed)\n",
    "\n",
    "            # Show every <show_every_n_batches> batches\n",
    "            if (epoch_i * len(batches) + batch_i) % show_every_n_batches == 0:\n",
    "                print('Epoch {:>3} Batch {:>4}/{}   train_loss = {:.3f}'.format(\n",
    "                    epoch_i,\n",
    "                    batch_i,\n",
    "                    len(batches),\n",
    "                    train_loss))\n",
    "\n",
    "    # Save Model\n",
    "    saver = tf.train.Saver()\n",
    "    saver.save(sess, save_dir)\n",
    "    print('Model Trained and Saved')"
   ]
  },
  {
   "cell_type": "markdown",
   "metadata": {},
   "source": [
    "# parameter adjustment"
   ]
  },
  {
   "cell_type": "markdown",
   "metadata": {},
   "source": [
    "模型结构：\n",
    "seq_length个(两个LSTM + dropout)　+ fully_connected_layer\n",
    "\n",
    "\n",
    "\n",
    "超参数：\n",
    "\n",
    "1. epoch 　初步设定为50次\n",
    "\n",
    "2. batch_size 　初步设定为64\n",
    "\n",
    "3. rnn_size  初步设定为256\n",
    "\n",
    "4. embed_size 　初步设定为256\n",
    "\n",
    "5. seq_lenth　长度为５，平均一句分句大概有5个词\n",
    "\n",
    "6. learning_rate 　0.001-0.01之间调整\n",
    "\n",
    "参数调优如下：\n",
    "\n",
    "* lstm_layers = 2, keep_prob = 0.75\n",
    "\n",
    "    50,64,256,256,5,0.005 ---> best_loss: 1.965\n",
    "\n",
    "    50,64,256,256,5,0.002 ---> best_loss: 1.617\n",
    "\n",
    "    60,64,256,256,5,0.002 ---> best_loss: 1.387\n",
    "\n",
    "    60,64,300,256,5,0.002 ---> best_loss: 1.448\n",
    "\n",
    "    60,64,300,256,5,0.001 ---> best_loss: 1.726\n",
    "\n",
    "    60,64,256,256,10,0.002 ---> best_loss: 1.968\n",
    "\n",
    "    60,50,256,256,5,0.002 ---> best_loss: 1.453\n",
    "\n",
    "    70,64,256,256,5,0.002 ---> best_loss: 1.343\n",
    "    \n",
    "    \n",
    "* lstm_layers = 3, keep_prob = 0.75\n",
    "\n",
    "    70,64,256,5,0.002 ---> best_loss: 1.761   \n",
    "    \n",
    "    \n",
    "\n",
    "* lstm_layers = 2, keep_prob = 0.8\n",
    "\n",
    "    70,64,256,256,5,0.002 ---> best_loss: 1.237\n",
    "    \n",
    "    70,64,256,384,5,0.002 ---> best_loss: 0.992\n",
    "    \n",
    "    80,64,256,384,5,0.002 ---> best_loss: 0.999\n",
    "    \n",
    "   \n",
    "* 根据评审意见对超参数进行调整,增大rnn_size，epoch，减小learing_rate\n",
    "    \n",
    "    100,64,256,384,5,0.002 ---> best_loss: 0.703\n",
    "    \n",
    "    100,64,256,512,8,0.002 ---> bset_loss: 0.577\n",
    "    \n",
    "    100,64,256,512,8,0.001 ---> bset_loss: 0.655\n",
    "    \n",
    "\n",
    "\n"
   ]
  },
  {
   "cell_type": "markdown",
   "metadata": {},
   "source": [
    "## Save Parameters\n",
    "Save `seq_length` and `save_dir` for generating a new TV script."
   ]
  },
  {
   "cell_type": "code",
   "execution_count": 15,
   "metadata": {
    "collapsed": true
   },
   "outputs": [],
   "source": [
    "\"\"\"\n",
    "DON'T MODIFY ANYTHING IN THIS CELL\n",
    "\"\"\"\n",
    "# Save parameters for checkpoint\n",
    "helper.save_params((seq_length, save_dir))"
   ]
  },
  {
   "cell_type": "markdown",
   "metadata": {},
   "source": [
    "# Checkpoint"
   ]
  },
  {
   "cell_type": "code",
   "execution_count": 16,
   "metadata": {
    "collapsed": true
   },
   "outputs": [],
   "source": [
    "\"\"\"\n",
    "DON'T MODIFY ANYTHING IN THIS CELL\n",
    "\"\"\"\n",
    "import tensorflow as tf\n",
    "import numpy as np\n",
    "import helper\n",
    "import problem_unittests as tests\n",
    "\n",
    "_, vocab_to_int, int_to_vocab, token_dict = helper.load_preprocess()\n",
    "seq_length, load_dir = helper.load_params()"
   ]
  },
  {
   "cell_type": "markdown",
   "metadata": {},
   "source": [
    "## Implement Generate Functions\n",
    "### Get Tensors\n",
    "Get tensors from `loaded_graph` using the function [`get_tensor_by_name()`](https://www.tensorflow.org/api_docs/python/tf/Graph#get_tensor_by_name).  Get the tensors using the following names:\n",
    "- \"input:0\"\n",
    "- \"initial_state:0\"\n",
    "- \"final_state:0\"\n",
    "- \"probs:0\"\n",
    "\n",
    "Return the tensors in the following tuple `(InputTensor, InitialStateTensor, FinalStateTensor, ProbsTensor)` "
   ]
  },
  {
   "cell_type": "code",
   "execution_count": 17,
   "metadata": {},
   "outputs": [
    {
     "name": "stdout",
     "output_type": "stream",
     "text": [
      "Tests Passed\n"
     ]
    }
   ],
   "source": [
    "def get_tensors(loaded_graph):\n",
    "    \"\"\"\n",
    "    Get input, initial state, final state, and probabilities tensor from <loaded_graph>\n",
    "    :param loaded_graph: TensorFlow graph loaded from file\n",
    "    :return: Tuple (InputTensor, InitialStateTensor, FinalStateTensor, ProbsTensor)\n",
    "    \"\"\"\n",
    "    # TODO: Implement Function\n",
    "\n",
    "    inputs = loaded_graph.get_tensor_by_name('input:0')\n",
    "    initial_state = loaded_graph.get_tensor_by_name('initial_state:0')\n",
    "    final_state = loaded_graph.get_tensor_by_name('final_state:0')\n",
    "    probs = loaded_graph.get_tensor_by_name('probs:0')\n",
    "    \n",
    "    return inputs, initial_state, final_state, probs\n",
    "\n",
    "\n",
    "\"\"\"\n",
    "DON'T MODIFY ANYTHING IN THIS CELL THAT IS BELOW THIS LINE\n",
    "\"\"\"\n",
    "tests.test_get_tensors(get_tensors)"
   ]
  },
  {
   "cell_type": "markdown",
   "metadata": {},
   "source": [
    "### Choose Word\n",
    "Implement the `pick_word()` function to select the next word using `probabilities`."
   ]
  },
  {
   "cell_type": "code",
   "execution_count": 23,
   "metadata": {},
   "outputs": [
    {
     "name": "stdout",
     "output_type": "stream",
     "text": [
      "Tests Passed\n"
     ]
    }
   ],
   "source": [
    "def pick_word(probabilities, int_to_vocab):\n",
    "    \"\"\"\n",
    "    Pick the next word in the generated text\n",
    "    :param probabilities: Probabilites of the next word\n",
    "    :param int_to_vocab: Dictionary of word ids as the keys and words as the values\n",
    "    :return: String of the predicted word\n",
    "    \"\"\"\n",
    "    # TODO: Implement Function\n",
    "    index = np.array(probabilities).argmax()\n",
    "    #index = np.random.choice(len(probabilities))\n",
    "    predicted_word = int_to_vocab[index]\n",
    "    return predicted_word\n",
    "\n",
    "\n",
    "\"\"\"\n",
    "DON'T MODIFY ANYTHING IN THIS CELL THAT IS BELOW THIS LINE\n",
    "\"\"\"\n",
    "tests.test_pick_word(pick_word)"
   ]
  },
  {
   "cell_type": "markdown",
   "metadata": {},
   "source": [
    "## Generate TV Script\n",
    "This will generate the TV script for you.  Set `gen_length` to the length of TV script you want to generate."
   ]
  },
  {
   "cell_type": "code",
   "execution_count": 24,
   "metadata": {},
   "outputs": [
    {
     "name": "stdout",
     "output_type": "stream",
     "text": [
      "moe_szyslak:(to barney) linda ronstadt? how'd i show that nice this... life-sized.\n",
      "bart_simpson: what do you call it?\n",
      "moe_szyslak: haven't just a real crank.\n",
      "homer_simpson: oh my god.(sobs) super carl_carlson: moe, is those operation--(suddenly nervous) oh great, ever got a lot of this scene novelty far than i grants this.\n",
      "health_inspector:(a party) ah, lucky that i wanted to buy my drink.\n",
      "moe_szyslak: ma'am...(back) get on, i wanna\" opportunity these back in the face.(chuckles)\n",
      "homer_simpson:(indignant) so who are you all to be another way?\n",
      "homer_simpson: oh, homer, here i go...\n",
      "homer_simpson:(cutting in off) maggie over the eyes to talkin'.\n",
      "lenny_leonard: this is just a man who? go off the short friend?\n",
      "moe_szyslak: hey, look... i know,\" face a beer!\n",
      "moe_szyslak: whoa, whoa, whoa it's the one time you want to\n"
     ]
    }
   ],
   "source": [
    "gen_length = 200\n",
    "# homer_simpson, moe_szyslak, or Barney_Gumble\n",
    "prime_word = 'moe_szyslak'\n",
    "\n",
    "\"\"\"\n",
    "DON'T MODIFY ANYTHING IN THIS CELL THAT IS BELOW THIS LINE\n",
    "\"\"\"\n",
    "loaded_graph = tf.Graph()\n",
    "with tf.Session(graph=loaded_graph) as sess:\n",
    "    # Load saved model\n",
    "    loader = tf.train.import_meta_graph(load_dir + '.meta')\n",
    "    loader.restore(sess, load_dir)\n",
    "\n",
    "    # Get Tensors from loaded model\n",
    "    input_text, initial_state, final_state, probs = get_tensors(loaded_graph)\n",
    "\n",
    "    # Sentences generation setup\n",
    "    gen_sentences = [prime_word + ':']\n",
    "    prev_state = sess.run(initial_state, {input_text: np.array([[1]])})\n",
    "\n",
    "    # Generate sentences\n",
    "    for n in range(gen_length):\n",
    "        # Dynamic Input\n",
    "        dyn_input = [[vocab_to_int[word] for word in gen_sentences[-seq_length:]]]\n",
    "        dyn_seq_length = len(dyn_input[0])\n",
    "\n",
    "        # Get Prediction\n",
    "        probabilities, prev_state = sess.run(\n",
    "            [probs, final_state],\n",
    "            {input_text: dyn_input, initial_state: prev_state})\n",
    "        \n",
    "        pred_word = pick_word(probabilities[dyn_seq_length-1], int_to_vocab)\n",
    "\n",
    "        gen_sentences.append(pred_word)\n",
    "    \n",
    "    # Remove tokens\n",
    "    tv_script = ' '.join(gen_sentences)\n",
    "    for key, token in token_dict.items():\n",
    "        ending = ' ' if key in ['\\n', '(', '\"'] else ''\n",
    "        tv_script = tv_script.replace(' ' + token.lower(), key)\n",
    "    tv_script = tv_script.replace('\\n ', '\\n')\n",
    "    tv_script = tv_script.replace('( ', '(')\n",
    "        \n",
    "    print(tv_script)"
   ]
  },
  {
   "cell_type": "markdown",
   "metadata": {},
   "source": [
    "生成的文本感觉上语法已经没什么问题了，但是语义及对白间的联系还差得比较多"
   ]
  },
  {
   "cell_type": "markdown",
   "metadata": {},
   "source": [
    "# The TV Script is Nonsensical\n",
    "It's ok if the TV script doesn't make any sense.  We trained on less than a megabyte of text.  In order to get good results, you'll have to use a smaller vocabulary or get more data.  Luckly there's more data!  As we mentioned in the begging of this project, this is a subset of [another dataset](https://www.kaggle.com/wcukierski/the-simpsons-by-the-data).  We didn't have you train on all the data, because that would take too long.  However, you are free to train your neural network on all the data.  After you complete the project, of course.\n",
    "# Submitting This Project\n",
    "When submitting this project, make sure to run all the cells before saving the notebook. Save the notebook file as \"dlnd_tv_script_generation.ipynb\" and save it as a HTML file under \"File\" -> \"Download as\". Include the \"helper.py\" and \"problem_unittests.py\" files in your submission."
   ]
  }
 ],
 "metadata": {
  "kernelspec": {
   "display_name": "Python 3",
   "language": "python",
   "name": "python3"
  },
  "language_info": {
   "codemirror_mode": {
    "name": "ipython",
    "version": 3
   },
   "file_extension": ".py",
   "mimetype": "text/x-python",
   "name": "python",
   "nbconvert_exporter": "python",
   "pygments_lexer": "ipython3",
   "version": "3.6.1"
  }
 },
 "nbformat": 4,
 "nbformat_minor": 1
}
